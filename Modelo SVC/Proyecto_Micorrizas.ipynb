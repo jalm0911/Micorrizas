{
  "cells": [
    {
      "cell_type": "markdown",
      "metadata": {
        "id": "r-Eg_mcv138B"
      },
      "source": [
        "# Importación de librerías"
      ]
    },
    {
      "cell_type": "code",
      "execution_count": null,
      "metadata": {
        "id": "yp89KYOgWHKE"
      },
      "outputs": [],
      "source": [
        "import os\n",
        "import cv2\n",
        "import joblib\n",
        "import numpy as np\n",
        "import seaborn as sns\n",
        "import matplotlib.pyplot as plt\n",
        "from sklearn.model_selection import train_test_split\n",
        "from sklearn.svm import SVC, OneClassSVM\n",
        "from sklearn.model_selection import GridSearchCV\n",
        "from sklearn.metrics import classification_report, accuracy_score, confusion_matrix\n",
        "from google.colab import files\n",
        "from tensorflow.keras.preprocessing import image"
      ]
    },
    {
      "cell_type": "markdown",
      "metadata": {
        "id": "8-MQW_UB1-fC"
      },
      "source": [
        "# Definición de rutas"
      ]
    },
    {
      "cell_type": "code",
      "execution_count": null,
      "metadata": {
        "id": "kupsX30VYOUc"
      },
      "outputs": [],
      "source": [
        "repo_dir = '/content/Micorrizas'\n",
        "# Definir rutas de las imágenes\n",
        "ecto_dir = os.path.join(repo_dir, 'Imagenes/Ectomicorrizas')\n",
        "endo_dir = os.path.join(repo_dir, 'Imagenes/Endomicorrizas')"
      ]
    },
    {
      "cell_type": "markdown",
      "metadata": {
        "id": "_-GGRdNr2HNi"
      },
      "source": [
        "# Funciones"
      ]
    },
    {
      "cell_type": "markdown",
      "metadata": {
        "id": "8p0bioS22JEh"
      },
      "source": [
        "## Cargar imagenes y Asignar etiquetas"
      ]
    },
    {
      "cell_type": "code",
      "execution_count": null,
      "metadata": {
        "id": "gkpeggowYORk"
      },
      "outputs": [],
      "source": [
        "# Función para cargar imágenes y etiquetas\n",
        "def cargar_img_labels(ecto_dir, endo_dir):\n",
        "    images = []\n",
        "    labels = []\n",
        "\n",
        "    # Cargar imágenes de ectomicorrizas\n",
        "    for nombre_img in os.listdir(ecto_dir):\n",
        "        ruta_img = os.path.join(ecto_dir, nombre_img)\n",
        "        img = cv2.imread(ruta_img)\n",
        "        if img is not None:\n",
        "            img = cv2.resize(img, (150, 150))\n",
        "            images.append(img)\n",
        "            labels.append(0)  # Ectomicorrizas = 0\n",
        "\n",
        "    # Cargar imágenes de endomicorrizas\n",
        "    for nombre_img in os.listdir(endo_dir):\n",
        "        ruta_img = os.path.join(endo_dir, nombre_img)\n",
        "        img = cv2.imread(ruta_img)\n",
        "        if img is not None:\n",
        "            img = cv2.resize(img, (150, 150))\n",
        "            images.append(img)\n",
        "            labels.append(1)  # Endomicorrizas = 1\n",
        "\n",
        "    return np.array(images), np.array(labels)"
      ]
    },
    {
      "cell_type": "markdown",
      "metadata": {
        "id": "T0M-avUR2SGi"
      },
      "source": [
        "## Segmentación de Imagenes"
      ]
    },
    {
      "cell_type": "code",
      "execution_count": null,
      "metadata": {
        "id": "ULbN6AoYcH2c"
      },
      "outputs": [],
      "source": [
        "def segmentacion_img(image):\n",
        "    gray = cv2.cvtColor(image, cv2.COLOR_BGR2GRAY)\n",
        "    _, thresh = cv2.threshold(gray, 0, 255, cv2.THRESH_BINARY + cv2.THRESH_OTSU)\n",
        "    return thresh"
      ]
    },
    {
      "cell_type": "markdown",
      "metadata": {
        "id": "nc3HLHtz6EzT"
      },
      "source": [
        "## Extracción de Características"
      ]
    },
    {
      "cell_type": "code",
      "execution_count": null,
      "metadata": {
        "id": "9W2er3dWcN-Q"
      },
      "outputs": [],
      "source": [
        "def extraccion_caracteristicas(images):\n",
        "    features = []\n",
        "    for img in images:\n",
        "        segmented = segmentacion_img(img)\n",
        "        shape_features = cv2.HuMoments(cv2.moments(segmented)).flatten()\n",
        "        color_features = cv2.mean(img)[:3]\n",
        "        features.append(np.hstack((shape_features, color_features)))\n",
        "    return np.array(features)"
      ]
    },
    {
      "cell_type": "markdown",
      "metadata": {
        "id": "6suq9_tVJTeT"
      },
      "source": [
        "## Cargar imagen para predicción del modelo"
      ]
    },
    {
      "cell_type": "code",
      "execution_count": null,
      "metadata": {
        "id": "c0_SXMehJTFs"
      },
      "outputs": [],
      "source": [
        "def cargar_imagen_prediccion(img_path):\n",
        "  img = cv2.imread(img_path)\n",
        "\n",
        "  if img is None:\n",
        "    return None\n",
        "\n",
        "  img = cv2.resize(img, (150, 150))\n",
        "  segmented = segmentacion_img(img)\n",
        "  shape_features = cv2.HuMoments(cv2.moments(segmented)).flatten()\n",
        "  color_features = cv2.mean(img)[:3]\n",
        "  features = np.hstack((shape_features, color_features))\n",
        "  return features"
      ]
    },
    {
      "cell_type": "markdown",
      "metadata": {
        "id": "W4qgAwym7567"
      },
      "source": [
        "# División del Conjunto de Datos  "
      ]
    },
    {
      "cell_type": "code",
      "execution_count": null,
      "metadata": {
        "id": "U9ZfBL_vYOMK"
      },
      "outputs": [],
      "source": [
        "# Cargar las imágenes y etiquetas\n",
        "images, labels = cargar_img_labels(ecto_dir, endo_dir)"
      ]
    },
    {
      "cell_type": "code",
      "execution_count": null,
      "metadata": {
        "id": "4iJXZs5_YOJq"
      },
      "outputs": [],
      "source": [
        "features = extraccion_caracteristicas(images)"
      ]
    },
    {
      "cell_type": "code",
      "execution_count": null,
      "metadata": {
        "id": "-X14B4dOYOHS"
      },
      "outputs": [],
      "source": [
        "X_train, X_test, y_train, y_test = train_test_split(features, labels, test_size=0.2, random_state=42)"
      ]
    },
    {
      "cell_type": "code",
      "execution_count": null,
      "metadata": {
        "colab": {
          "base_uri": "https://localhost:8080/"
        },
        "id": "LDZoX_NJNBd_",
        "outputId": "f0a54a0e-085a-4a5f-d35e-1ba97d651cde"
      },
      "outputs": [
        {
          "name": "stdout",
          "output_type": "stream",
          "text": [
            "Tamaño de X_train: (974, 10)\n",
            "Tamaño de y_train: (974,)\n",
            "Tamaño de X_test: (244, 10)\n",
            "Tamaño de y_test: (244,)\n"
          ]
        }
      ],
      "source": [
        "print(\"Tamaño de X_train:\", X_train.shape)\n",
        "print(\"Tamaño de y_train:\", y_train.shape)\n",
        "print(\"Tamaño de X_test:\", X_test.shape)\n",
        "print(\"Tamaño de y_test:\", y_test.shape)"
      ]
    },
    {
      "cell_type": "markdown",
      "metadata": {
        "id": "Kpca9CCD8N49"
      },
      "source": [
        "# Busqueda de los mejores parámetros"
      ]
    },
    {
      "cell_type": "code",
      "execution_count": null,
      "metadata": {
        "id": "-yltUR7nlCHl"
      },
      "outputs": [],
      "source": [
        "param_grid = {\n",
        "    'C': [0.1, 1, 10, 100],\n",
        "    'gamma': [1, 0.1, 0.01, 0.001],\n",
        "    'kernel': ['rbf', 'linear', 'sigmoid']\n",
        "}"
      ]
    },
    {
      "cell_type": "code",
      "execution_count": null,
      "metadata": {
        "id": "VeyS8jYA-VlD"
      },
      "outputs": [],
      "source": [
        "grid_search = GridSearchCV(SVC(class_weight='balanced'), param_grid, refit=True, verbose=2)"
      ]
    },
    {
      "cell_type": "code",
      "execution_count": null,
      "metadata": {
        "colab": {
          "base_uri": "https://localhost:8080/"
        },
        "id": "GPL-JV7u-enk",
        "outputId": "d9831ad4-1544-4475-ea4e-bf1fd7c72c14"
      },
      "outputs": [
        {
          "name": "stdout",
          "output_type": "stream",
          "text": [
            "Fitting 5 folds for each of 48 candidates, totalling 240 fits\n",
            "[CV] END .........................C=0.1, gamma=1, kernel=rbf; total time=   0.0s\n",
            "[CV] END .........................C=0.1, gamma=1, kernel=rbf; total time=   0.0s\n",
            "[CV] END .........................C=0.1, gamma=1, kernel=rbf; total time=   0.0s\n",
            "[CV] END .........................C=0.1, gamma=1, kernel=rbf; total time=   0.1s\n",
            "[CV] END .........................C=0.1, gamma=1, kernel=rbf; total time=   0.0s\n",
            "[CV] END ......................C=0.1, gamma=1, kernel=linear; total time=   0.3s\n",
            "[CV] END ......................C=0.1, gamma=1, kernel=linear; total time=   0.4s\n",
            "[CV] END ......................C=0.1, gamma=1, kernel=linear; total time=   0.3s\n",
            "[CV] END ......................C=0.1, gamma=1, kernel=linear; total time=   0.3s\n",
            "[CV] END ......................C=0.1, gamma=1, kernel=linear; total time=   0.3s\n",
            "[CV] END .....................C=0.1, gamma=1, kernel=sigmoid; total time=   0.0s\n",
            "[CV] END .....................C=0.1, gamma=1, kernel=sigmoid; total time=   0.0s\n",
            "[CV] END .....................C=0.1, gamma=1, kernel=sigmoid; total time=   0.0s\n",
            "[CV] END .....................C=0.1, gamma=1, kernel=sigmoid; total time=   0.0s\n",
            "[CV] END .....................C=0.1, gamma=1, kernel=sigmoid; total time=   0.0s\n",
            "[CV] END .......................C=0.1, gamma=0.1, kernel=rbf; total time=   0.1s\n",
            "[CV] END .......................C=0.1, gamma=0.1, kernel=rbf; total time=   0.1s\n",
            "[CV] END .......................C=0.1, gamma=0.1, kernel=rbf; total time=   0.1s\n",
            "[CV] END .......................C=0.1, gamma=0.1, kernel=rbf; total time=   0.1s\n",
            "[CV] END .......................C=0.1, gamma=0.1, kernel=rbf; total time=   0.1s\n",
            "[CV] END ....................C=0.1, gamma=0.1, kernel=linear; total time=   0.3s\n",
            "[CV] END ....................C=0.1, gamma=0.1, kernel=linear; total time=   0.4s\n",
            "[CV] END ....................C=0.1, gamma=0.1, kernel=linear; total time=   0.3s\n",
            "[CV] END ....................C=0.1, gamma=0.1, kernel=linear; total time=   0.3s\n",
            "[CV] END ....................C=0.1, gamma=0.1, kernel=linear; total time=   0.3s\n",
            "[CV] END ...................C=0.1, gamma=0.1, kernel=sigmoid; total time=   0.0s\n",
            "[CV] END ...................C=0.1, gamma=0.1, kernel=sigmoid; total time=   0.0s\n",
            "[CV] END ...................C=0.1, gamma=0.1, kernel=sigmoid; total time=   0.1s\n",
            "[CV] END ...................C=0.1, gamma=0.1, kernel=sigmoid; total time=   0.1s\n",
            "[CV] END ...................C=0.1, gamma=0.1, kernel=sigmoid; total time=   0.1s\n",
            "[CV] END ......................C=0.1, gamma=0.01, kernel=rbf; total time=   0.1s\n",
            "[CV] END ......................C=0.1, gamma=0.01, kernel=rbf; total time=   0.1s\n",
            "[CV] END ......................C=0.1, gamma=0.01, kernel=rbf; total time=   0.1s\n",
            "[CV] END ......................C=0.1, gamma=0.01, kernel=rbf; total time=   0.1s\n",
            "[CV] END ......................C=0.1, gamma=0.01, kernel=rbf; total time=   0.1s\n",
            "[CV] END ...................C=0.1, gamma=0.01, kernel=linear; total time=   0.5s\n",
            "[CV] END ...................C=0.1, gamma=0.01, kernel=linear; total time=   0.6s\n",
            "[CV] END ...................C=0.1, gamma=0.01, kernel=linear; total time=   0.6s\n",
            "[CV] END ...................C=0.1, gamma=0.01, kernel=linear; total time=   0.4s\n",
            "[CV] END ...................C=0.1, gamma=0.01, kernel=linear; total time=   0.6s\n",
            "[CV] END ..................C=0.1, gamma=0.01, kernel=sigmoid; total time=   0.1s\n",
            "[CV] END ..................C=0.1, gamma=0.01, kernel=sigmoid; total time=   0.0s\n",
            "[CV] END ..................C=0.1, gamma=0.01, kernel=sigmoid; total time=   0.1s\n",
            "[CV] END ..................C=0.1, gamma=0.01, kernel=sigmoid; total time=   0.1s\n",
            "[CV] END ..................C=0.1, gamma=0.01, kernel=sigmoid; total time=   0.0s\n",
            "[CV] END .....................C=0.1, gamma=0.001, kernel=rbf; total time=   0.0s\n",
            "[CV] END .....................C=0.1, gamma=0.001, kernel=rbf; total time=   0.0s\n",
            "[CV] END .....................C=0.1, gamma=0.001, kernel=rbf; total time=   0.0s\n",
            "[CV] END .....................C=0.1, gamma=0.001, kernel=rbf; total time=   0.0s\n",
            "[CV] END .....................C=0.1, gamma=0.001, kernel=rbf; total time=   0.0s\n",
            "[CV] END ..................C=0.1, gamma=0.001, kernel=linear; total time=   0.6s\n",
            "[CV] END ..................C=0.1, gamma=0.001, kernel=linear; total time=   0.7s\n",
            "[CV] END ..................C=0.1, gamma=0.001, kernel=linear; total time=   0.6s\n",
            "[CV] END ..................C=0.1, gamma=0.001, kernel=linear; total time=   0.3s\n",
            "[CV] END ..................C=0.1, gamma=0.001, kernel=linear; total time=   0.3s\n",
            "[CV] END .................C=0.1, gamma=0.001, kernel=sigmoid; total time=   0.0s\n",
            "[CV] END .................C=0.1, gamma=0.001, kernel=sigmoid; total time=   0.0s\n",
            "[CV] END .................C=0.1, gamma=0.001, kernel=sigmoid; total time=   0.0s\n",
            "[CV] END .................C=0.1, gamma=0.001, kernel=sigmoid; total time=   0.0s\n",
            "[CV] END .................C=0.1, gamma=0.001, kernel=sigmoid; total time=   0.0s\n",
            "[CV] END ...........................C=1, gamma=1, kernel=rbf; total time=   0.1s\n",
            "[CV] END ...........................C=1, gamma=1, kernel=rbf; total time=   0.0s\n",
            "[CV] END ...........................C=1, gamma=1, kernel=rbf; total time=   0.0s\n",
            "[CV] END ...........................C=1, gamma=1, kernel=rbf; total time=   0.0s\n",
            "[CV] END ...........................C=1, gamma=1, kernel=rbf; total time=   0.1s\n",
            "[CV] END ........................C=1, gamma=1, kernel=linear; total time=   2.3s\n",
            "[CV] END ........................C=1, gamma=1, kernel=linear; total time=   3.0s\n",
            "[CV] END ........................C=1, gamma=1, kernel=linear; total time=   2.4s\n",
            "[CV] END ........................C=1, gamma=1, kernel=linear; total time=   2.5s\n",
            "[CV] END ........................C=1, gamma=1, kernel=linear; total time=   4.6s\n",
            "[CV] END .......................C=1, gamma=1, kernel=sigmoid; total time=   0.0s\n",
            "[CV] END .......................C=1, gamma=1, kernel=sigmoid; total time=   0.0s\n",
            "[CV] END .......................C=1, gamma=1, kernel=sigmoid; total time=   0.0s\n",
            "[CV] END .......................C=1, gamma=1, kernel=sigmoid; total time=   0.0s\n",
            "[CV] END .......................C=1, gamma=1, kernel=sigmoid; total time=   0.0s\n",
            "[CV] END .........................C=1, gamma=0.1, kernel=rbf; total time=   0.1s\n",
            "[CV] END .........................C=1, gamma=0.1, kernel=rbf; total time=   0.1s\n",
            "[CV] END .........................C=1, gamma=0.1, kernel=rbf; total time=   0.1s\n",
            "[CV] END .........................C=1, gamma=0.1, kernel=rbf; total time=   0.1s\n",
            "[CV] END .........................C=1, gamma=0.1, kernel=rbf; total time=   0.1s\n",
            "[CV] END ......................C=1, gamma=0.1, kernel=linear; total time=   2.3s\n",
            "[CV] END ......................C=1, gamma=0.1, kernel=linear; total time=   3.0s\n",
            "[CV] END ......................C=1, gamma=0.1, kernel=linear; total time=   2.4s\n",
            "[CV] END ......................C=1, gamma=0.1, kernel=linear; total time=   3.1s\n",
            "[CV] END ......................C=1, gamma=0.1, kernel=linear; total time=   5.1s\n",
            "[CV] END .....................C=1, gamma=0.1, kernel=sigmoid; total time=   0.1s\n",
            "[CV] END .....................C=1, gamma=0.1, kernel=sigmoid; total time=   0.1s\n",
            "[CV] END .....................C=1, gamma=0.1, kernel=sigmoid; total time=   0.1s\n",
            "[CV] END .....................C=1, gamma=0.1, kernel=sigmoid; total time=   0.1s\n",
            "[CV] END .....................C=1, gamma=0.1, kernel=sigmoid; total time=   0.1s\n",
            "[CV] END ........................C=1, gamma=0.01, kernel=rbf; total time=   0.1s\n",
            "[CV] END ........................C=1, gamma=0.01, kernel=rbf; total time=   0.1s\n",
            "[CV] END ........................C=1, gamma=0.01, kernel=rbf; total time=   0.1s\n",
            "[CV] END ........................C=1, gamma=0.01, kernel=rbf; total time=   0.1s\n",
            "[CV] END ........................C=1, gamma=0.01, kernel=rbf; total time=   0.1s\n",
            "[CV] END .....................C=1, gamma=0.01, kernel=linear; total time=   3.5s\n",
            "[CV] END .....................C=1, gamma=0.01, kernel=linear; total time=   2.9s\n",
            "[CV] END .....................C=1, gamma=0.01, kernel=linear; total time=   2.4s\n",
            "[CV] END .....................C=1, gamma=0.01, kernel=linear; total time=   2.1s\n",
            "[CV] END .....................C=1, gamma=0.01, kernel=linear; total time=   3.4s\n",
            "[CV] END ....................C=1, gamma=0.01, kernel=sigmoid; total time=   0.0s\n",
            "[CV] END ....................C=1, gamma=0.01, kernel=sigmoid; total time=   0.1s\n",
            "[CV] END ....................C=1, gamma=0.01, kernel=sigmoid; total time=   0.0s\n",
            "[CV] END ....................C=1, gamma=0.01, kernel=sigmoid; total time=   0.0s\n",
            "[CV] END ....................C=1, gamma=0.01, kernel=sigmoid; total time=   0.0s\n",
            "[CV] END .......................C=1, gamma=0.001, kernel=rbf; total time=   0.0s\n",
            "[CV] END .......................C=1, gamma=0.001, kernel=rbf; total time=   0.0s\n",
            "[CV] END .......................C=1, gamma=0.001, kernel=rbf; total time=   0.0s\n",
            "[CV] END .......................C=1, gamma=0.001, kernel=rbf; total time=   0.0s\n",
            "[CV] END .......................C=1, gamma=0.001, kernel=rbf; total time=   0.0s\n",
            "[CV] END ....................C=1, gamma=0.001, kernel=linear; total time=   3.8s\n",
            "[CV] END ....................C=1, gamma=0.001, kernel=linear; total time=   3.0s\n",
            "[CV] END ....................C=1, gamma=0.001, kernel=linear; total time=   2.4s\n",
            "[CV] END ....................C=1, gamma=0.001, kernel=linear; total time=   2.1s\n",
            "[CV] END ....................C=1, gamma=0.001, kernel=linear; total time=   2.9s\n",
            "[CV] END ...................C=1, gamma=0.001, kernel=sigmoid; total time=   0.0s\n",
            "[CV] END ...................C=1, gamma=0.001, kernel=sigmoid; total time=   0.0s\n",
            "[CV] END ...................C=1, gamma=0.001, kernel=sigmoid; total time=   0.0s\n",
            "[CV] END ...................C=1, gamma=0.001, kernel=sigmoid; total time=   0.0s\n",
            "[CV] END ...................C=1, gamma=0.001, kernel=sigmoid; total time=   0.1s\n",
            "[CV] END ..........................C=10, gamma=1, kernel=rbf; total time=   0.1s\n",
            "[CV] END ..........................C=10, gamma=1, kernel=rbf; total time=   0.1s\n",
            "[CV] END ..........................C=10, gamma=1, kernel=rbf; total time=   0.1s\n",
            "[CV] END ..........................C=10, gamma=1, kernel=rbf; total time=   0.1s\n",
            "[CV] END ..........................C=10, gamma=1, kernel=rbf; total time=   0.1s\n",
            "[CV] END .......................C=10, gamma=1, kernel=linear; total time=  14.7s\n",
            "[CV] END .......................C=10, gamma=1, kernel=linear; total time=  12.0s\n",
            "[CV] END .......................C=10, gamma=1, kernel=linear; total time=  11.3s\n",
            "[CV] END .......................C=10, gamma=1, kernel=linear; total time=  13.6s\n",
            "[CV] END .......................C=10, gamma=1, kernel=linear; total time=  14.0s\n",
            "[CV] END ......................C=10, gamma=1, kernel=sigmoid; total time=   0.1s\n",
            "[CV] END ......................C=10, gamma=1, kernel=sigmoid; total time=   0.0s\n",
            "[CV] END ......................C=10, gamma=1, kernel=sigmoid; total time=   0.0s\n",
            "[CV] END ......................C=10, gamma=1, kernel=sigmoid; total time=   0.1s\n",
            "[CV] END ......................C=10, gamma=1, kernel=sigmoid; total time=   0.0s\n",
            "[CV] END ........................C=10, gamma=0.1, kernel=rbf; total time=   0.1s\n",
            "[CV] END ........................C=10, gamma=0.1, kernel=rbf; total time=   0.1s\n",
            "[CV] END ........................C=10, gamma=0.1, kernel=rbf; total time=   0.1s\n",
            "[CV] END ........................C=10, gamma=0.1, kernel=rbf; total time=   0.1s\n",
            "[CV] END ........................C=10, gamma=0.1, kernel=rbf; total time=   0.1s\n",
            "[CV] END .....................C=10, gamma=0.1, kernel=linear; total time=  14.9s\n",
            "[CV] END .....................C=10, gamma=0.1, kernel=linear; total time=  11.4s\n",
            "[CV] END .....................C=10, gamma=0.1, kernel=linear; total time=  11.3s\n",
            "[CV] END .....................C=10, gamma=0.1, kernel=linear; total time=  11.7s\n",
            "[CV] END .....................C=10, gamma=0.1, kernel=linear; total time=  12.3s\n",
            "[CV] END ....................C=10, gamma=0.1, kernel=sigmoid; total time=   0.0s\n",
            "[CV] END ....................C=10, gamma=0.1, kernel=sigmoid; total time=   0.0s\n",
            "[CV] END ....................C=10, gamma=0.1, kernel=sigmoid; total time=   0.0s\n",
            "[CV] END ....................C=10, gamma=0.1, kernel=sigmoid; total time=   0.0s\n",
            "[CV] END ....................C=10, gamma=0.1, kernel=sigmoid; total time=   0.1s\n",
            "[CV] END .......................C=10, gamma=0.01, kernel=rbf; total time=   0.1s\n",
            "[CV] END .......................C=10, gamma=0.01, kernel=rbf; total time=   0.1s\n",
            "[CV] END .......................C=10, gamma=0.01, kernel=rbf; total time=   0.1s\n",
            "[CV] END .......................C=10, gamma=0.01, kernel=rbf; total time=   0.1s\n",
            "[CV] END .......................C=10, gamma=0.01, kernel=rbf; total time=   0.1s\n",
            "[CV] END ....................C=10, gamma=0.01, kernel=linear; total time=  14.5s\n",
            "[CV] END ....................C=10, gamma=0.01, kernel=linear; total time=  11.8s\n",
            "[CV] END ....................C=10, gamma=0.01, kernel=linear; total time=  14.2s\n",
            "[CV] END ....................C=10, gamma=0.01, kernel=linear; total time=  11.2s\n",
            "[CV] END ....................C=10, gamma=0.01, kernel=linear; total time=  12.7s\n",
            "[CV] END ...................C=10, gamma=0.01, kernel=sigmoid; total time=   0.0s\n",
            "[CV] END ...................C=10, gamma=0.01, kernel=sigmoid; total time=   0.0s\n",
            "[CV] END ...................C=10, gamma=0.01, kernel=sigmoid; total time=   0.0s\n",
            "[CV] END ...................C=10, gamma=0.01, kernel=sigmoid; total time=   0.0s\n",
            "[CV] END ...................C=10, gamma=0.01, kernel=sigmoid; total time=   0.0s\n",
            "[CV] END ......................C=10, gamma=0.001, kernel=rbf; total time=   0.0s\n",
            "[CV] END ......................C=10, gamma=0.001, kernel=rbf; total time=   0.0s\n",
            "[CV] END ......................C=10, gamma=0.001, kernel=rbf; total time=   0.0s\n",
            "[CV] END ......................C=10, gamma=0.001, kernel=rbf; total time=   0.0s\n",
            "[CV] END ......................C=10, gamma=0.001, kernel=rbf; total time=   0.0s\n",
            "[CV] END ...................C=10, gamma=0.001, kernel=linear; total time=  15.2s\n",
            "[CV] END ...................C=10, gamma=0.001, kernel=linear; total time=  12.1s\n",
            "[CV] END ...................C=10, gamma=0.001, kernel=linear; total time=  11.3s\n",
            "[CV] END ...................C=10, gamma=0.001, kernel=linear; total time=  11.4s\n",
            "[CV] END ...................C=10, gamma=0.001, kernel=linear; total time=  12.8s\n",
            "[CV] END ..................C=10, gamma=0.001, kernel=sigmoid; total time=   0.1s\n",
            "[CV] END ..................C=10, gamma=0.001, kernel=sigmoid; total time=   0.1s\n",
            "[CV] END ..................C=10, gamma=0.001, kernel=sigmoid; total time=   0.1s\n",
            "[CV] END ..................C=10, gamma=0.001, kernel=sigmoid; total time=   0.1s\n",
            "[CV] END ..................C=10, gamma=0.001, kernel=sigmoid; total time=   0.1s\n",
            "[CV] END .........................C=100, gamma=1, kernel=rbf; total time=   0.1s\n",
            "[CV] END .........................C=100, gamma=1, kernel=rbf; total time=   0.1s\n",
            "[CV] END .........................C=100, gamma=1, kernel=rbf; total time=   0.1s\n",
            "[CV] END .........................C=100, gamma=1, kernel=rbf; total time=   0.1s\n",
            "[CV] END .........................C=100, gamma=1, kernel=rbf; total time=   0.1s\n",
            "[CV] END ......................C=100, gamma=1, kernel=linear; total time=  17.3s\n",
            "[CV] END ......................C=100, gamma=1, kernel=linear; total time=  26.2s\n",
            "[CV] END ......................C=100, gamma=1, kernel=linear; total time=  19.7s\n",
            "[CV] END ......................C=100, gamma=1, kernel=linear; total time=  16.7s\n",
            "[CV] END ......................C=100, gamma=1, kernel=linear; total time=  12.7s\n",
            "[CV] END .....................C=100, gamma=1, kernel=sigmoid; total time=   0.0s\n",
            "[CV] END .....................C=100, gamma=1, kernel=sigmoid; total time=   0.0s\n",
            "[CV] END .....................C=100, gamma=1, kernel=sigmoid; total time=   0.0s\n",
            "[CV] END .....................C=100, gamma=1, kernel=sigmoid; total time=   0.0s\n",
            "[CV] END .....................C=100, gamma=1, kernel=sigmoid; total time=   0.0s\n",
            "[CV] END .......................C=100, gamma=0.1, kernel=rbf; total time=   0.1s\n",
            "[CV] END .......................C=100, gamma=0.1, kernel=rbf; total time=   0.1s\n",
            "[CV] END .......................C=100, gamma=0.1, kernel=rbf; total time=   0.1s\n",
            "[CV] END .......................C=100, gamma=0.1, kernel=rbf; total time=   0.1s\n",
            "[CV] END .......................C=100, gamma=0.1, kernel=rbf; total time=   0.1s\n",
            "[CV] END ....................C=100, gamma=0.1, kernel=linear; total time=  18.3s\n",
            "[CV] END ....................C=100, gamma=0.1, kernel=linear; total time=  26.3s\n",
            "[CV] END ....................C=100, gamma=0.1, kernel=linear; total time=  19.3s\n",
            "[CV] END ....................C=100, gamma=0.1, kernel=linear; total time=  18.4s\n",
            "[CV] END ....................C=100, gamma=0.1, kernel=linear; total time=  12.6s\n",
            "[CV] END ...................C=100, gamma=0.1, kernel=sigmoid; total time=   0.0s\n",
            "[CV] END ...................C=100, gamma=0.1, kernel=sigmoid; total time=   0.0s\n",
            "[CV] END ...................C=100, gamma=0.1, kernel=sigmoid; total time=   0.0s\n",
            "[CV] END ...................C=100, gamma=0.1, kernel=sigmoid; total time=   0.0s\n",
            "[CV] END ...................C=100, gamma=0.1, kernel=sigmoid; total time=   0.0s\n",
            "[CV] END ......................C=100, gamma=0.01, kernel=rbf; total time=   0.0s\n",
            "[CV] END ......................C=100, gamma=0.01, kernel=rbf; total time=   0.0s\n",
            "[CV] END ......................C=100, gamma=0.01, kernel=rbf; total time=   0.0s\n",
            "[CV] END ......................C=100, gamma=0.01, kernel=rbf; total time=   0.0s\n",
            "[CV] END ......................C=100, gamma=0.01, kernel=rbf; total time=   0.0s\n",
            "[CV] END ...................C=100, gamma=0.01, kernel=linear; total time=  17.8s\n",
            "[CV] END ...................C=100, gamma=0.01, kernel=linear; total time=  22.8s\n",
            "[CV] END ...................C=100, gamma=0.01, kernel=linear; total time=  21.8s\n",
            "[CV] END ...................C=100, gamma=0.01, kernel=linear; total time=  15.9s\n",
            "[CV] END ...................C=100, gamma=0.01, kernel=linear; total time=  11.0s\n",
            "[CV] END ..................C=100, gamma=0.01, kernel=sigmoid; total time=   0.0s\n",
            "[CV] END ..................C=100, gamma=0.01, kernel=sigmoid; total time=   0.1s\n",
            "[CV] END ..................C=100, gamma=0.01, kernel=sigmoid; total time=   0.1s\n",
            "[CV] END ..................C=100, gamma=0.01, kernel=sigmoid; total time=   0.0s\n",
            "[CV] END ..................C=100, gamma=0.01, kernel=sigmoid; total time=   0.1s\n",
            "[CV] END .....................C=100, gamma=0.001, kernel=rbf; total time=   0.0s\n",
            "[CV] END .....................C=100, gamma=0.001, kernel=rbf; total time=   0.0s\n",
            "[CV] END .....................C=100, gamma=0.001, kernel=rbf; total time=   0.1s\n",
            "[CV] END .....................C=100, gamma=0.001, kernel=rbf; total time=   0.0s\n",
            "[CV] END .....................C=100, gamma=0.001, kernel=rbf; total time=   0.0s\n",
            "[CV] END ..................C=100, gamma=0.001, kernel=linear; total time=  14.7s\n",
            "[CV] END ..................C=100, gamma=0.001, kernel=linear; total time=  27.2s\n",
            "[CV] END ..................C=100, gamma=0.001, kernel=linear; total time=  19.3s\n",
            "[CV] END ..................C=100, gamma=0.001, kernel=linear; total time=  16.5s\n",
            "[CV] END ..................C=100, gamma=0.001, kernel=linear; total time=  12.5s\n",
            "[CV] END .................C=100, gamma=0.001, kernel=sigmoid; total time=   0.0s\n",
            "[CV] END .................C=100, gamma=0.001, kernel=sigmoid; total time=   0.0s\n",
            "[CV] END .................C=100, gamma=0.001, kernel=sigmoid; total time=   0.0s\n",
            "[CV] END .................C=100, gamma=0.001, kernel=sigmoid; total time=   0.0s\n",
            "[CV] END .................C=100, gamma=0.001, kernel=sigmoid; total time=   0.0s\n"
          ]
        },
        {
          "data": {
            "text/html": [
              "<style>#sk-container-id-1 {color: black;}#sk-container-id-1 pre{padding: 0;}#sk-container-id-1 div.sk-toggleable {background-color: white;}#sk-container-id-1 label.sk-toggleable__label {cursor: pointer;display: block;width: 100%;margin-bottom: 0;padding: 0.3em;box-sizing: border-box;text-align: center;}#sk-container-id-1 label.sk-toggleable__label-arrow:before {content: \"▸\";float: left;margin-right: 0.25em;color: #696969;}#sk-container-id-1 label.sk-toggleable__label-arrow:hover:before {color: black;}#sk-container-id-1 div.sk-estimator:hover label.sk-toggleable__label-arrow:before {color: black;}#sk-container-id-1 div.sk-toggleable__content {max-height: 0;max-width: 0;overflow: hidden;text-align: left;background-color: #f0f8ff;}#sk-container-id-1 div.sk-toggleable__content pre {margin: 0.2em;color: black;border-radius: 0.25em;background-color: #f0f8ff;}#sk-container-id-1 input.sk-toggleable__control:checked~div.sk-toggleable__content {max-height: 200px;max-width: 100%;overflow: auto;}#sk-container-id-1 input.sk-toggleable__control:checked~label.sk-toggleable__label-arrow:before {content: \"▾\";}#sk-container-id-1 div.sk-estimator input.sk-toggleable__control:checked~label.sk-toggleable__label {background-color: #d4ebff;}#sk-container-id-1 div.sk-label input.sk-toggleable__control:checked~label.sk-toggleable__label {background-color: #d4ebff;}#sk-container-id-1 input.sk-hidden--visually {border: 0;clip: rect(1px 1px 1px 1px);clip: rect(1px, 1px, 1px, 1px);height: 1px;margin: -1px;overflow: hidden;padding: 0;position: absolute;width: 1px;}#sk-container-id-1 div.sk-estimator {font-family: monospace;background-color: #f0f8ff;border: 1px dotted black;border-radius: 0.25em;box-sizing: border-box;margin-bottom: 0.5em;}#sk-container-id-1 div.sk-estimator:hover {background-color: #d4ebff;}#sk-container-id-1 div.sk-parallel-item::after {content: \"\";width: 100%;border-bottom: 1px solid gray;flex-grow: 1;}#sk-container-id-1 div.sk-label:hover label.sk-toggleable__label {background-color: #d4ebff;}#sk-container-id-1 div.sk-serial::before {content: \"\";position: absolute;border-left: 1px solid gray;box-sizing: border-box;top: 0;bottom: 0;left: 50%;z-index: 0;}#sk-container-id-1 div.sk-serial {display: flex;flex-direction: column;align-items: center;background-color: white;padding-right: 0.2em;padding-left: 0.2em;position: relative;}#sk-container-id-1 div.sk-item {position: relative;z-index: 1;}#sk-container-id-1 div.sk-parallel {display: flex;align-items: stretch;justify-content: center;background-color: white;position: relative;}#sk-container-id-1 div.sk-item::before, #sk-container-id-1 div.sk-parallel-item::before {content: \"\";position: absolute;border-left: 1px solid gray;box-sizing: border-box;top: 0;bottom: 0;left: 50%;z-index: -1;}#sk-container-id-1 div.sk-parallel-item {display: flex;flex-direction: column;z-index: 1;position: relative;background-color: white;}#sk-container-id-1 div.sk-parallel-item:first-child::after {align-self: flex-end;width: 50%;}#sk-container-id-1 div.sk-parallel-item:last-child::after {align-self: flex-start;width: 50%;}#sk-container-id-1 div.sk-parallel-item:only-child::after {width: 0;}#sk-container-id-1 div.sk-dashed-wrapped {border: 1px dashed gray;margin: 0 0.4em 0.5em 0.4em;box-sizing: border-box;padding-bottom: 0.4em;background-color: white;}#sk-container-id-1 div.sk-label label {font-family: monospace;font-weight: bold;display: inline-block;line-height: 1.2em;}#sk-container-id-1 div.sk-label-container {text-align: center;}#sk-container-id-1 div.sk-container {/* jupyter's `normalize.less` sets `[hidden] { display: none; }` but bootstrap.min.css set `[hidden] { display: none !important; }` so we also need the `!important` here to be able to override the default hidden behavior on the sphinx rendered scikit-learn.org. See: https://github.com/scikit-learn/scikit-learn/issues/21755 */display: inline-block !important;position: relative;}#sk-container-id-1 div.sk-text-repr-fallback {display: none;}</style><div id=\"sk-container-id-1\" class=\"sk-top-container\"><div class=\"sk-text-repr-fallback\"><pre>GridSearchCV(estimator=SVC(class_weight=&#x27;balanced&#x27;),\n",
              "             param_grid={&#x27;C&#x27;: [0.1, 1, 10, 100], &#x27;gamma&#x27;: [1, 0.1, 0.01, 0.001],\n",
              "                         &#x27;kernel&#x27;: [&#x27;rbf&#x27;, &#x27;linear&#x27;, &#x27;sigmoid&#x27;]},\n",
              "             verbose=2)</pre><b>In a Jupyter environment, please rerun this cell to show the HTML representation or trust the notebook. <br />On GitHub, the HTML representation is unable to render, please try loading this page with nbviewer.org.</b></div><div class=\"sk-container\" hidden><div class=\"sk-item sk-dashed-wrapped\"><div class=\"sk-label-container\"><div class=\"sk-label sk-toggleable\"><input class=\"sk-toggleable__control sk-hidden--visually\" id=\"sk-estimator-id-1\" type=\"checkbox\" ><label for=\"sk-estimator-id-1\" class=\"sk-toggleable__label sk-toggleable__label-arrow\">GridSearchCV</label><div class=\"sk-toggleable__content\"><pre>GridSearchCV(estimator=SVC(class_weight=&#x27;balanced&#x27;),\n",
              "             param_grid={&#x27;C&#x27;: [0.1, 1, 10, 100], &#x27;gamma&#x27;: [1, 0.1, 0.01, 0.001],\n",
              "                         &#x27;kernel&#x27;: [&#x27;rbf&#x27;, &#x27;linear&#x27;, &#x27;sigmoid&#x27;]},\n",
              "             verbose=2)</pre></div></div></div><div class=\"sk-parallel\"><div class=\"sk-parallel-item\"><div class=\"sk-item\"><div class=\"sk-label-container\"><div class=\"sk-label sk-toggleable\"><input class=\"sk-toggleable__control sk-hidden--visually\" id=\"sk-estimator-id-2\" type=\"checkbox\" ><label for=\"sk-estimator-id-2\" class=\"sk-toggleable__label sk-toggleable__label-arrow\">estimator: SVC</label><div class=\"sk-toggleable__content\"><pre>SVC(class_weight=&#x27;balanced&#x27;)</pre></div></div></div><div class=\"sk-serial\"><div class=\"sk-item\"><div class=\"sk-estimator sk-toggleable\"><input class=\"sk-toggleable__control sk-hidden--visually\" id=\"sk-estimator-id-3\" type=\"checkbox\" ><label for=\"sk-estimator-id-3\" class=\"sk-toggleable__label sk-toggleable__label-arrow\">SVC</label><div class=\"sk-toggleable__content\"><pre>SVC(class_weight=&#x27;balanced&#x27;)</pre></div></div></div></div></div></div></div></div></div></div>"
            ],
            "text/plain": [
              "GridSearchCV(estimator=SVC(class_weight='balanced'),\n",
              "             param_grid={'C': [0.1, 1, 10, 100], 'gamma': [1, 0.1, 0.01, 0.001],\n",
              "                         'kernel': ['rbf', 'linear', 'sigmoid']},\n",
              "             verbose=2)"
            ]
          },
          "execution_count": 16,
          "metadata": {},
          "output_type": "execute_result"
        }
      ],
      "source": [
        "grid_search.fit(X_train, y_train)"
      ]
    },
    {
      "cell_type": "code",
      "execution_count": null,
      "metadata": {
        "colab": {
          "base_uri": "https://localhost:8080/"
        },
        "id": "hcw29BdTYOEq",
        "outputId": "6e1590e4-49ad-4435-d741-321d9076d0ed"
      },
      "outputs": [
        {
          "name": "stdout",
          "output_type": "stream",
          "text": [
            "Mejores parámetros encontrados: {'C': 100, 'gamma': 0.001, 'kernel': 'rbf'}\n"
          ]
        }
      ],
      "source": [
        "# Obtener los mejores parámetros encontrados\n",
        "best_params = grid_search.best_params_\n",
        "\n",
        "# Imprimir los mejores parámetros\n",
        "print(\"Mejores parámetros encontrados:\", best_params)"
      ]
    },
    {
      "cell_type": "markdown",
      "metadata": {
        "id": "fxMsFI3A_CMb"
      },
      "source": [
        "# Entrenamiento del modelo con los mejores parámetros"
      ]
    },
    {
      "cell_type": "code",
      "execution_count": null,
      "metadata": {
        "colab": {
          "base_uri": "https://localhost:8080/",
          "height": 75
        },
        "id": "5Y0wPHOS-q1b",
        "outputId": "250ded65-6dd8-4800-a77f-f743f34f0104"
      },
      "outputs": [
        {
          "data": {
            "text/html": [
              "<style>#sk-container-id-2 {color: black;}#sk-container-id-2 pre{padding: 0;}#sk-container-id-2 div.sk-toggleable {background-color: white;}#sk-container-id-2 label.sk-toggleable__label {cursor: pointer;display: block;width: 100%;margin-bottom: 0;padding: 0.3em;box-sizing: border-box;text-align: center;}#sk-container-id-2 label.sk-toggleable__label-arrow:before {content: \"▸\";float: left;margin-right: 0.25em;color: #696969;}#sk-container-id-2 label.sk-toggleable__label-arrow:hover:before {color: black;}#sk-container-id-2 div.sk-estimator:hover label.sk-toggleable__label-arrow:before {color: black;}#sk-container-id-2 div.sk-toggleable__content {max-height: 0;max-width: 0;overflow: hidden;text-align: left;background-color: #f0f8ff;}#sk-container-id-2 div.sk-toggleable__content pre {margin: 0.2em;color: black;border-radius: 0.25em;background-color: #f0f8ff;}#sk-container-id-2 input.sk-toggleable__control:checked~div.sk-toggleable__content {max-height: 200px;max-width: 100%;overflow: auto;}#sk-container-id-2 input.sk-toggleable__control:checked~label.sk-toggleable__label-arrow:before {content: \"▾\";}#sk-container-id-2 div.sk-estimator input.sk-toggleable__control:checked~label.sk-toggleable__label {background-color: #d4ebff;}#sk-container-id-2 div.sk-label input.sk-toggleable__control:checked~label.sk-toggleable__label {background-color: #d4ebff;}#sk-container-id-2 input.sk-hidden--visually {border: 0;clip: rect(1px 1px 1px 1px);clip: rect(1px, 1px, 1px, 1px);height: 1px;margin: -1px;overflow: hidden;padding: 0;position: absolute;width: 1px;}#sk-container-id-2 div.sk-estimator {font-family: monospace;background-color: #f0f8ff;border: 1px dotted black;border-radius: 0.25em;box-sizing: border-box;margin-bottom: 0.5em;}#sk-container-id-2 div.sk-estimator:hover {background-color: #d4ebff;}#sk-container-id-2 div.sk-parallel-item::after {content: \"\";width: 100%;border-bottom: 1px solid gray;flex-grow: 1;}#sk-container-id-2 div.sk-label:hover label.sk-toggleable__label {background-color: #d4ebff;}#sk-container-id-2 div.sk-serial::before {content: \"\";position: absolute;border-left: 1px solid gray;box-sizing: border-box;top: 0;bottom: 0;left: 50%;z-index: 0;}#sk-container-id-2 div.sk-serial {display: flex;flex-direction: column;align-items: center;background-color: white;padding-right: 0.2em;padding-left: 0.2em;position: relative;}#sk-container-id-2 div.sk-item {position: relative;z-index: 1;}#sk-container-id-2 div.sk-parallel {display: flex;align-items: stretch;justify-content: center;background-color: white;position: relative;}#sk-container-id-2 div.sk-item::before, #sk-container-id-2 div.sk-parallel-item::before {content: \"\";position: absolute;border-left: 1px solid gray;box-sizing: border-box;top: 0;bottom: 0;left: 50%;z-index: -1;}#sk-container-id-2 div.sk-parallel-item {display: flex;flex-direction: column;z-index: 1;position: relative;background-color: white;}#sk-container-id-2 div.sk-parallel-item:first-child::after {align-self: flex-end;width: 50%;}#sk-container-id-2 div.sk-parallel-item:last-child::after {align-self: flex-start;width: 50%;}#sk-container-id-2 div.sk-parallel-item:only-child::after {width: 0;}#sk-container-id-2 div.sk-dashed-wrapped {border: 1px dashed gray;margin: 0 0.4em 0.5em 0.4em;box-sizing: border-box;padding-bottom: 0.4em;background-color: white;}#sk-container-id-2 div.sk-label label {font-family: monospace;font-weight: bold;display: inline-block;line-height: 1.2em;}#sk-container-id-2 div.sk-label-container {text-align: center;}#sk-container-id-2 div.sk-container {/* jupyter's `normalize.less` sets `[hidden] { display: none; }` but bootstrap.min.css set `[hidden] { display: none !important; }` so we also need the `!important` here to be able to override the default hidden behavior on the sphinx rendered scikit-learn.org. See: https://github.com/scikit-learn/scikit-learn/issues/21755 */display: inline-block !important;position: relative;}#sk-container-id-2 div.sk-text-repr-fallback {display: none;}</style><div id=\"sk-container-id-2\" class=\"sk-top-container\"><div class=\"sk-text-repr-fallback\"><pre>SVC(C=100, gamma=0.001, probability=True)</pre><b>In a Jupyter environment, please rerun this cell to show the HTML representation or trust the notebook. <br />On GitHub, the HTML representation is unable to render, please try loading this page with nbviewer.org.</b></div><div class=\"sk-container\" hidden><div class=\"sk-item\"><div class=\"sk-estimator sk-toggleable\"><input class=\"sk-toggleable__control sk-hidden--visually\" id=\"sk-estimator-id-4\" type=\"checkbox\" checked><label for=\"sk-estimator-id-4\" class=\"sk-toggleable__label sk-toggleable__label-arrow\">SVC</label><div class=\"sk-toggleable__content\"><pre>SVC(C=100, gamma=0.001, probability=True)</pre></div></div></div></div></div>"
            ],
            "text/plain": [
              "SVC(C=100, gamma=0.001, probability=True)"
            ]
          },
          "execution_count": 18,
          "metadata": {},
          "output_type": "execute_result"
        }
      ],
      "source": [
        "model = SVC(**best_params, probability=True)\n",
        "model.fit(X_train, y_train)"
      ]
    },
    {
      "cell_type": "markdown",
      "metadata": {
        "id": "anANSje1_Ie7"
      },
      "source": [
        "# Predicción y Métricas de Evaluación"
      ]
    },
    {
      "cell_type": "code",
      "execution_count": null,
      "metadata": {
        "id": "vLKU9EmS_OOc"
      },
      "outputs": [],
      "source": [
        "y_pred = model.predict(X_test)"
      ]
    },
    {
      "cell_type": "code",
      "execution_count": null,
      "metadata": {
        "id": "PvKh948W_O4T"
      },
      "outputs": [],
      "source": [
        "accuracy = accuracy_score(y_test, y_pred)\n",
        "conf_matrix = confusion_matrix(y_test, y_pred)\n",
        "classification_rep = classification_report(y_test, y_pred, target_names=['Ectomicorriza', 'Endomicorriza'])"
      ]
    },
    {
      "cell_type": "code",
      "execution_count": null,
      "metadata": {
        "colab": {
          "base_uri": "https://localhost:8080/"
        },
        "id": "voasyZpJYOCa",
        "outputId": "4913a1e7-5f79-4e2c-b741-78f7b89e70dd"
      },
      "outputs": [
        {
          "name": "stdout",
          "output_type": "stream",
          "text": [
            "Accuracy:  0.9713114754098361\n",
            "Confusion Matrix:\n",
            " [[119   0]\n",
            " [  7 118]]\n",
            "Classification Report:\n",
            "                precision    recall  f1-score   support\n",
            "\n",
            "Ectomicorriza       0.94      1.00      0.97       119\n",
            "Endomicorriza       1.00      0.94      0.97       125\n",
            "\n",
            "     accuracy                           0.97       244\n",
            "    macro avg       0.97      0.97      0.97       244\n",
            " weighted avg       0.97      0.97      0.97       244\n",
            "\n"
          ]
        }
      ],
      "source": [
        "#Metricas de evaluacion\n",
        "print(f\"Accuracy: \", accuracy)\n",
        "print(\"Confusion Matrix:\\n\", conf_matrix)\n",
        "print(\"Classification Report:\\n\", classification_rep)"
      ]
    },
    {
      "cell_type": "code",
      "execution_count": null,
      "metadata": {
        "colab": {
          "base_uri": "https://localhost:8080/",
          "height": 410
        },
        "id": "0c3-ATtZ_mMy",
        "outputId": "d689c97e-0ba1-4b5e-fdf6-605d14e5a072"
      },
      "outputs": [
        {
          "data": {
            "image/png": "[encoded data removed]",
            "text/plain": [
              "<Figure size 600x400 with 2 Axes>"
            ]
          },
          "metadata": {},
          "output_type": "display_data"
        }
      ],
      "source": [
        "# Visualizar la matriz de confusión\n",
        "plt.figure(figsize=(6, 4))\n",
        "sns.heatmap(conf_matrix, annot=True, fmt='d', cmap='Blues', xticklabels=['Ectomicorriza', 'Endomicorriza'], yticklabels=['Ectomicorriza', 'Endomicorriza'])\n",
        "plt.xlabel('Predicted')\n",
        "plt.ylabel('True')\n",
        "plt.title('Confusion Matrix')\n",
        "plt.show()"
      ]
    },
    {
      "cell_type": "markdown",
      "metadata": {
        "id": "3TpIr-reOcKp"
      },
      "source": [
        "# Prediccion Real"
      ]
    },
    {
      "cell_type": "code",
      "execution_count": null,
      "metadata": {
        "colab": {
          "base_uri": "https://localhost:8080/"
        },
        "id": "9FSgL9jkDV5U",
        "outputId": "ec70fbd2-ab2a-4a80-8f25-6e00d69f50b9"
      },
      "outputs": [
        {
          "data": {
            "text/plain": [
              "['/content/drive/MyDrive/clasificacion_micorrizas.pkl']"
            ]
          },
          "execution_count": 24,
          "metadata": {},
          "output_type": "execute_result"
        }
      ],
      "source": [
        "import joblib\n",
        "\n",
        "#Modelo Guardado\n",
        "joblib.dump(model, '/content/drive/MyDrive/clasificacion_micorrizas.pkl')"
      ]
    },
    {
      "cell_type": "code",
      "execution_count": null,
      "metadata": {
        "colab": {
          "base_uri": "https://localhost:8080/"
        },
        "id": "_0Kpa6AoHpGb",
        "outputId": "6f95802f-9110-48a0-db84-23365b40bbda"
      },
      "outputs": [
        {
          "name": "stdout",
          "output_type": "stream",
          "text": [
            "La imagen corresponde a una endomicorriza.\n",
            "prediction [1]\n",
            "Probabilidad de Endomicorriza: [[0.00648503 0.99351497]]\n"
          ]
        }
      ],
      "source": [
        "import cv2\n",
        "import numpy as np\n",
        "import joblib\n",
        "\n",
        "# Cargar el modelo entrenado\n",
        "model_svc = joblib.load('/content/drive/MyDrive/clasificacion_micorrizas.pkl')\n",
        "\n",
        "#img_path = '/content/Micorrizas/Imagenes/Ectomicorrizas/img_ecto (208).jpg'\n",
        "img_path = '/content/Micorrizas/Imagenes/Endomicorrizas/img_endo (10).jpg'\n",
        "#img_path = '/content/gati.jpg'\n",
        "#img_path = '/content/perro.jpg'\n",
        "#img_path = '/content/avion.jpg'\n",
        "#img_path = '/content/hongo.jpg'\n",
        "\n",
        "# Cargar la imagen\n",
        "imagen_procesada = cargar_imagen_prediccion(img_path)\n",
        "\n",
        "if imagen_procesada is None:\n",
        "  print(f\"Error {img_path}. No existe.\")\n",
        "\n",
        "else:\n",
        "  # Predicción con el modelo de clasificación\n",
        "  prediction = model_svc.predict(imagen_procesada.reshape(1, -1))\n",
        "  probabilities = model_svc.predict_proba(imagen_procesada.reshape(1, -1))\n",
        "\n",
        "\n",
        "  if prediction[0] == 0:\n",
        "    print(\"La imagen corresponde a una ectomicorriza.\")\n",
        "    print(f\"prediction {prediction}\")\n",
        "    print(f\"Probabilidad de Ectomicorriza: {probabilities}\")\n",
        "  elif prediction[0]==1:\n",
        "    print(\"La imagen corresponde a una endomicorriza.\")\n",
        "    print(f\"prediction {prediction}\")\n",
        "    print(f\"Probabilidad de Endomicorriza: {probabilities}\")"
      ]
    }
  ],
  "metadata": {
    "colab": {
      "provenance": []
    },
    "kernelspec": {
      "display_name": "Python 3",
      "name": "python3"
    },
    "language_info": {
      "name": "python"
    }
  },
  "nbformat": 4,
  "nbformat_minor": 0
}
